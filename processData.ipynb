{
 "cells": [
  {
   "cell_type": "code",
   "execution_count": 13,
   "metadata": {},
   "outputs": [],
   "source": [
    "import pandas as pd\n",
    "\n",
    "def process_aqi_data(input_csv_path, output_csv_path):\n",
    "    \"\"\"\n",
    "    Processes AQI data by calculating the monthly maximum and saves the result to a new CSV.\n",
    "    \n",
    "    Parameters:\n",
    "    - input_csv_path: Path to the input CSV file containing the original AQI data.\n",
    "    - output_csv_path: Path where the processed CSV file will be saved.\n",
    "    \"\"\"\n",
    "    # Load the dataset\n",
    "    df = pd.read_csv(input_csv_path)\n",
    "    \n",
    "    # Ensure the 'Year', 'Month', and 'Day' columns are in the correct format\n",
    "    df['year'] = df['year'].astype(str)\n",
    "    df['month'] = df['month'].astype(str).str.zfill(2)  # Ensure all months are two digits\n",
    "    df['day'] = df['day'].astype(str).str.zfill(2)  # Ensure all days are two digits\n",
    "    \n",
    "    # Create a 'YearMonth' column for grouping\n",
    "    df['YearMonth'] = df['year'] + '-' + df['month']\n",
    "    \n",
    "    # Group by the new 'YearMonth' column and calculate the max AQI\n",
    "    monthly_aqi_max = df.groupby('YearMonth')['aqi'].max().reset_index()\n",
    "    \n",
    "    # Split 'YearMonth' back into separate 'Year' and 'Month' columns\n",
    "    monthly_aqi_max[['Year', 'Month']] = monthly_aqi_max['YearMonth'].str.split('-', expand=True)\n",
    "    \n",
    "    # Drop the 'YearMonth' column as it's no longer needed\n",
    "    monthly_aqi_max.drop(columns=['YearMonth'], inplace=True)\n",
    "    \n",
    "    # Reorder columns to 'Year', 'Month', 'AQI'\n",
    "    monthly_aqi_max = monthly_aqi_max[['Year', 'Month', 'aqi']]\n",
    "    \n",
    "    # Save the processed data to a new CSV file\n",
    "    monthly_aqi_max.to_csv(output_csv_path, index=False)\n",
    "    \n",
    "    print(f\"Processed data has been saved to {output_csv_path}\")\n"
   ]
  },
  {
   "cell_type": "code",
   "execution_count": 23,
   "metadata": {},
   "outputs": [
    {
     "name": "stdout",
     "output_type": "stream",
     "text": [
      "Processed data has been saved to ./csv/aqi_cleaned_Visalia.csv\n"
     ]
    }
   ],
   "source": [
    "process_aqi_data('./csv/aqi_raw_Visalia.csv', './csv/aqi_cleaned_Visalia.csv')"
   ]
  }
 ],
 "metadata": {
  "kernelspec": {
   "display_name": "base",
   "language": "python",
   "name": "python3"
  },
  "language_info": {
   "codemirror_mode": {
    "name": "ipython",
    "version": 3
   },
   "file_extension": ".py",
   "mimetype": "text/x-python",
   "name": "python",
   "nbconvert_exporter": "python",
   "pygments_lexer": "ipython3",
   "version": "3.10.9"
  }
 },
 "nbformat": 4,
 "nbformat_minor": 2
}
